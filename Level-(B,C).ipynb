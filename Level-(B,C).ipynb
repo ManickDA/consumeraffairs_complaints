{
 "cells": [
  {
   "cell_type": "markdown",
   "id": "cb0643c9",
   "metadata": {},
   "source": [
    "## Level - B"
   ]
  },
  {
   "cell_type": "markdown",
   "id": "3fa74d0f",
   "metadata": {},
   "source": [
    "#### Problem Statement :Consumer complaints analysis "
   ]
  },
  {
   "cell_type": "markdown",
   "id": "fda46c42",
   "metadata": {},
   "source": [
    "* Use clustering techniques to group these text items into clusters. \n",
    "* Assign meaningful names to these clusters. E.g. Malfunctions, Hidden Fees and Outages could be three potential types of clusters.\n",
    "* You are free to design your clustering solution and enhance it with any text processing and techniques (e.g. word similarity)\n",
    "* The number of clusters is also left up to you to decide.\n",
    "\n"
   ]
  },
  {
   "cell_type": "markdown",
   "id": "c7313af3",
   "metadata": {},
   "source": [
    "#### About The Dataset"
   ]
  },
  {
   "cell_type": "markdown",
   "id": "df0507fc",
   "metadata": {},
   "source": [
    "* This represents a list of complaints made by users of the services provided by a US-based telecom company"
   ]
  },
  {
   "cell_type": "markdown",
   "id": "6927eedb",
   "metadata": {},
   "source": [
    "#### Import Libraries"
   ]
  },
  {
   "cell_type": "code",
   "execution_count": 71,
   "id": "74d618e9",
   "metadata": {},
   "outputs": [],
   "source": [
    "import pandas as pd\n",
    "import numpy as np\n",
    "import seaborn as sns\n",
    "import matplotlib\n",
    "import re\n",
    "import seaborn as sns\n",
    "import matplotlib.pyplot as plt\n",
    "from nltk.stem import WordNetLemmatizer, SnowballStemmer\n",
    "from sklearn.feature_extraction.text import TfidfVectorizer\n",
    "from sklearn.cluster import KMeans"
   ]
  },
  {
   "cell_type": "code",
   "execution_count": 72,
   "id": "6abeaf99",
   "metadata": {},
   "outputs": [
    {
     "data": {
      "text/html": [
       "<div>\n",
       "<style scoped>\n",
       "    .dataframe tbody tr th:only-of-type {\n",
       "        vertical-align: middle;\n",
       "    }\n",
       "\n",
       "    .dataframe tbody tr th {\n",
       "        vertical-align: top;\n",
       "    }\n",
       "\n",
       "    .dataframe thead th {\n",
       "        text-align: right;\n",
       "    }\n",
       "</style>\n",
       "<table border=\"1\" class=\"dataframe\">\n",
       "  <thead>\n",
       "    <tr style=\"text-align: right;\">\n",
       "      <th></th>\n",
       "      <th>author</th>\n",
       "      <th>posted_on</th>\n",
       "      <th>rating</th>\n",
       "      <th>text</th>\n",
       "    </tr>\n",
       "  </thead>\n",
       "  <tbody>\n",
       "    <tr>\n",
       "      <th>0</th>\n",
       "      <td>Alantae of Chesterfeild, MI</td>\n",
       "      <td>Nov. 22, 2016</td>\n",
       "      <td>1</td>\n",
       "      <td>I used to love Comcast. Until all these consta...</td>\n",
       "    </tr>\n",
       "    <tr>\n",
       "      <th>1</th>\n",
       "      <td>Vera of Philadelphia, PA</td>\n",
       "      <td>Nov. 19, 2016</td>\n",
       "      <td>1</td>\n",
       "      <td>I'm so over Comcast! The worst internet provid...</td>\n",
       "    </tr>\n",
       "    <tr>\n",
       "      <th>2</th>\n",
       "      <td>Sarah of Rancho Cordova, CA</td>\n",
       "      <td>Nov. 17, 2016</td>\n",
       "      <td>1</td>\n",
       "      <td>If I could give them a negative star or no sta...</td>\n",
       "    </tr>\n",
       "    <tr>\n",
       "      <th>3</th>\n",
       "      <td>Dennis of Manchester, NH</td>\n",
       "      <td>Nov. 16, 2016</td>\n",
       "      <td>1</td>\n",
       "      <td>I've had the worst experiences so far since in...</td>\n",
       "    </tr>\n",
       "    <tr>\n",
       "      <th>4</th>\n",
       "      <td>Ryan of Bellevue, WA</td>\n",
       "      <td>Nov. 14, 2016</td>\n",
       "      <td>1</td>\n",
       "      <td>Check your contract when you sign up for Comca...</td>\n",
       "    </tr>\n",
       "  </tbody>\n",
       "</table>\n",
       "</div>"
      ],
      "text/plain": [
       "                        author      posted_on  rating  \\\n",
       "0  Alantae of Chesterfeild, MI  Nov. 22, 2016       1   \n",
       "1     Vera of Philadelphia, PA  Nov. 19, 2016       1   \n",
       "2  Sarah of Rancho Cordova, CA  Nov. 17, 2016       1   \n",
       "3     Dennis of Manchester, NH  Nov. 16, 2016       1   \n",
       "4         Ryan of Bellevue, WA  Nov. 14, 2016       1   \n",
       "\n",
       "                                                text  \n",
       "0  I used to love Comcast. Until all these consta...  \n",
       "1  I'm so over Comcast! The worst internet provid...  \n",
       "2  If I could give them a negative star or no sta...  \n",
       "3  I've had the worst experiences so far since in...  \n",
       "4  Check your contract when you sign up for Comca...  "
      ]
     },
     "execution_count": 72,
     "metadata": {},
     "output_type": "execute_result"
    }
   ],
   "source": [
    "data = pd.read_csv(\"D:\\\\Assignment\\\\Dataset\\\\comcast_consumeraffairs_complaints.csv\")\n",
    "data.head()"
   ]
  },
  {
   "cell_type": "code",
   "execution_count": 73,
   "id": "dd78a038",
   "metadata": {
    "scrolled": true
   },
   "outputs": [
    {
     "name": "stdout",
     "output_type": "stream",
     "text": [
      "<class 'pandas.core.frame.DataFrame'>\n",
      "RangeIndex: 5659 entries, 0 to 5658\n",
      "Data columns (total 4 columns):\n",
      " #   Column     Non-Null Count  Dtype \n",
      "---  ------     --------------  ----- \n",
      " 0   author     5659 non-null   object\n",
      " 1   posted_on  5659 non-null   object\n",
      " 2   rating     5659 non-null   int64 \n",
      " 3   text       5629 non-null   object\n",
      "dtypes: int64(1), object(3)\n",
      "memory usage: 177.0+ KB\n"
     ]
    }
   ],
   "source": [
    "data.info()"
   ]
  },
  {
   "cell_type": "markdown",
   "id": "bced2bcc",
   "metadata": {},
   "source": [
    "### Missing Values"
   ]
  },
  {
   "cell_type": "code",
   "execution_count": 74,
   "id": "ccf77c70",
   "metadata": {},
   "outputs": [
    {
     "data": {
      "text/html": [
       "<style type=\"text/css\">\n",
       "#T_cfb9a_row0_col0, #T_cfb9a_row0_col1, #T_cfb9a_row1_col0, #T_cfb9a_row1_col1, #T_cfb9a_row2_col0, #T_cfb9a_row2_col1 {\n",
       "  background-color: #0d0887;\n",
       "  color: #f1f1f1;\n",
       "}\n",
       "#T_cfb9a_row3_col0, #T_cfb9a_row3_col1 {\n",
       "  background-color: #f0f921;\n",
       "  color: #000000;\n",
       "}\n",
       "</style>\n",
       "<table id=\"T_cfb9a\">\n",
       "  <thead>\n",
       "    <tr>\n",
       "      <th class=\"blank level0\" >&nbsp;</th>\n",
       "      <th id=\"T_cfb9a_level0_col0\" class=\"col_heading level0 col0\" >Missing Values</th>\n",
       "      <th id=\"T_cfb9a_level0_col1\" class=\"col_heading level0 col1\" >Percentage</th>\n",
       "      <th id=\"T_cfb9a_level0_col2\" class=\"col_heading level0 col2\" >Data Types</th>\n",
       "    </tr>\n",
       "  </thead>\n",
       "  <tbody>\n",
       "    <tr>\n",
       "      <th id=\"T_cfb9a_level0_row0\" class=\"row_heading level0 row0\" >author</th>\n",
       "      <td id=\"T_cfb9a_row0_col0\" class=\"data row0 col0\" >0</td>\n",
       "      <td id=\"T_cfb9a_row0_col1\" class=\"data row0 col1\" >0.000000</td>\n",
       "      <td id=\"T_cfb9a_row0_col2\" class=\"data row0 col2\" >object</td>\n",
       "    </tr>\n",
       "    <tr>\n",
       "      <th id=\"T_cfb9a_level0_row1\" class=\"row_heading level0 row1\" >posted_on</th>\n",
       "      <td id=\"T_cfb9a_row1_col0\" class=\"data row1 col0\" >0</td>\n",
       "      <td id=\"T_cfb9a_row1_col1\" class=\"data row1 col1\" >0.000000</td>\n",
       "      <td id=\"T_cfb9a_row1_col2\" class=\"data row1 col2\" >object</td>\n",
       "    </tr>\n",
       "    <tr>\n",
       "      <th id=\"T_cfb9a_level0_row2\" class=\"row_heading level0 row2\" >rating</th>\n",
       "      <td id=\"T_cfb9a_row2_col0\" class=\"data row2 col0\" >0</td>\n",
       "      <td id=\"T_cfb9a_row2_col1\" class=\"data row2 col1\" >0.000000</td>\n",
       "      <td id=\"T_cfb9a_row2_col2\" class=\"data row2 col2\" >int64</td>\n",
       "    </tr>\n",
       "    <tr>\n",
       "      <th id=\"T_cfb9a_level0_row3\" class=\"row_heading level0 row3\" >text</th>\n",
       "      <td id=\"T_cfb9a_row3_col0\" class=\"data row3 col0\" >30</td>\n",
       "      <td id=\"T_cfb9a_row3_col1\" class=\"data row3 col1\" >0.530129</td>\n",
       "      <td id=\"T_cfb9a_row3_col2\" class=\"data row3 col2\" >object</td>\n",
       "    </tr>\n",
       "  </tbody>\n",
       "</table>\n"
      ],
      "text/plain": [
       "<pandas.io.formats.style.Styler at 0x16ca0476c70>"
      ]
     },
     "execution_count": 74,
     "metadata": {},
     "output_type": "execute_result"
    }
   ],
   "source": [
    "missing_value= data.isnull().sum()\n",
    "percentage = 100 * data.isnull().sum() / len(data)\n",
    "data_types = data.dtypes\n",
    "missing_values_table = pd.concat([missing_value, percentage, data_types], axis=1)\n",
    "miss_val = missing_values_table.rename(columns = {0 : 'Missing Values',1 : 'Percentage',2: 'Data Types'})\n",
    "miss_val.style.background_gradient(cmap = \"plasma\")"
   ]
  },
  {
   "cell_type": "code",
   "execution_count": 75,
   "id": "ef842fe2",
   "metadata": {
    "scrolled": true
   },
   "outputs": [
    {
     "data": {
      "text/html": [
       "<div>\n",
       "<style scoped>\n",
       "    .dataframe tbody tr th:only-of-type {\n",
       "        vertical-align: middle;\n",
       "    }\n",
       "\n",
       "    .dataframe tbody tr th {\n",
       "        vertical-align: top;\n",
       "    }\n",
       "\n",
       "    .dataframe thead th {\n",
       "        text-align: right;\n",
       "    }\n",
       "</style>\n",
       "<table border=\"1\" class=\"dataframe\">\n",
       "  <thead>\n",
       "    <tr style=\"text-align: right;\">\n",
       "      <th></th>\n",
       "      <th>author</th>\n",
       "      <th>posted_on</th>\n",
       "      <th>rating</th>\n",
       "      <th>text</th>\n",
       "    </tr>\n",
       "  </thead>\n",
       "  <tbody>\n",
       "    <tr>\n",
       "      <th>1321</th>\n",
       "      <td>Emmy of Santa Clara, CA</td>\n",
       "      <td>Aug. 25, 2007</td>\n",
       "      <td>0</td>\n",
       "      <td>NaN</td>\n",
       "    </tr>\n",
       "    <tr>\n",
       "      <th>1322</th>\n",
       "      <td>John of Jacksonville, FL</td>\n",
       "      <td>Aug. 24, 2007</td>\n",
       "      <td>0</td>\n",
       "      <td>NaN</td>\n",
       "    </tr>\n",
       "    <tr>\n",
       "      <th>1323</th>\n",
       "      <td>Karyn of Kenilworth, NJ</td>\n",
       "      <td>Aug. 21, 2007</td>\n",
       "      <td>0</td>\n",
       "      <td>NaN</td>\n",
       "    </tr>\n",
       "    <tr>\n",
       "      <th>1325</th>\n",
       "      <td>W of Morton Grove, IL</td>\n",
       "      <td>March 6, 2007</td>\n",
       "      <td>0</td>\n",
       "      <td>NaN</td>\n",
       "    </tr>\n",
       "    <tr>\n",
       "      <th>1326</th>\n",
       "      <td>Dennis of Sewell, NJ</td>\n",
       "      <td>March 1, 2007</td>\n",
       "      <td>0</td>\n",
       "      <td>NaN</td>\n",
       "    </tr>\n",
       "    <tr>\n",
       "      <th>1327</th>\n",
       "      <td>Wesley of Pittsburgh, PA</td>\n",
       "      <td>Feb. 28, 2007</td>\n",
       "      <td>0</td>\n",
       "      <td>NaN</td>\n",
       "    </tr>\n",
       "    <tr>\n",
       "      <th>1328</th>\n",
       "      <td>Cynthia of Poca, WV</td>\n",
       "      <td>Feb. 18, 2007</td>\n",
       "      <td>0</td>\n",
       "      <td>NaN</td>\n",
       "    </tr>\n",
       "    <tr>\n",
       "      <th>1329</th>\n",
       "      <td>Jeff of Huntington, WV</td>\n",
       "      <td>Feb. 15, 2007</td>\n",
       "      <td>0</td>\n",
       "      <td>NaN</td>\n",
       "    </tr>\n",
       "    <tr>\n",
       "      <th>1330</th>\n",
       "      <td>Tim of Kane, PA</td>\n",
       "      <td>Feb. 9, 2007</td>\n",
       "      <td>0</td>\n",
       "      <td>NaN</td>\n",
       "    </tr>\n",
       "    <tr>\n",
       "      <th>1331</th>\n",
       "      <td>Anthony of Ogden, UT</td>\n",
       "      <td>Feb. 4, 2007</td>\n",
       "      <td>0</td>\n",
       "      <td>NaN</td>\n",
       "    </tr>\n",
       "    <tr>\n",
       "      <th>1332</th>\n",
       "      <td>Penny of Colorado Springs, CO</td>\n",
       "      <td>Feb. 1, 2007</td>\n",
       "      <td>0</td>\n",
       "      <td>NaN</td>\n",
       "    </tr>\n",
       "    <tr>\n",
       "      <th>5613</th>\n",
       "      <td>Dave of Shoreline, WA</td>\n",
       "      <td>Aug. 21, 2007</td>\n",
       "      <td>0</td>\n",
       "      <td>NaN</td>\n",
       "    </tr>\n",
       "    <tr>\n",
       "      <th>5614</th>\n",
       "      <td>Huber of Reston, VA</td>\n",
       "      <td>Aug. 17, 2007</td>\n",
       "      <td>0</td>\n",
       "      <td>NaN</td>\n",
       "    </tr>\n",
       "    <tr>\n",
       "      <th>5615</th>\n",
       "      <td>Patricia of Michigan City, IN</td>\n",
       "      <td>Aug. 17, 2007</td>\n",
       "      <td>0</td>\n",
       "      <td>NaN</td>\n",
       "    </tr>\n",
       "    <tr>\n",
       "      <th>5617</th>\n",
       "      <td>Seraphina of Oakland, CA</td>\n",
       "      <td>July 16, 2007</td>\n",
       "      <td>0</td>\n",
       "      <td>NaN</td>\n",
       "    </tr>\n",
       "    <tr>\n",
       "      <th>5618</th>\n",
       "      <td>Kim of Salem, MA</td>\n",
       "      <td>July 16, 2007</td>\n",
       "      <td>0</td>\n",
       "      <td>NaN</td>\n",
       "    </tr>\n",
       "    <tr>\n",
       "      <th>5619</th>\n",
       "      <td>Nicole of Hazlet, NJ</td>\n",
       "      <td>June 27, 2007</td>\n",
       "      <td>0</td>\n",
       "      <td>NaN</td>\n",
       "    </tr>\n",
       "    <tr>\n",
       "      <th>5620</th>\n",
       "      <td>German of Monroe, GA</td>\n",
       "      <td>June 15, 2007</td>\n",
       "      <td>0</td>\n",
       "      <td>NaN</td>\n",
       "    </tr>\n",
       "    <tr>\n",
       "      <th>5621</th>\n",
       "      <td>Deirdre of Baltimore, MD</td>\n",
       "      <td>June 3, 2007</td>\n",
       "      <td>0</td>\n",
       "      <td>NaN</td>\n",
       "    </tr>\n",
       "    <tr>\n",
       "      <th>5623</th>\n",
       "      <td>Aj of Hayward, CA</td>\n",
       "      <td>May 26, 2007</td>\n",
       "      <td>0</td>\n",
       "      <td>NaN</td>\n",
       "    </tr>\n",
       "    <tr>\n",
       "      <th>5624</th>\n",
       "      <td>Vincent of Broomall, PA</td>\n",
       "      <td>May 6, 2007</td>\n",
       "      <td>0</td>\n",
       "      <td>NaN</td>\n",
       "    </tr>\n",
       "    <tr>\n",
       "      <th>5625</th>\n",
       "      <td>Matt of Chicago, IL</td>\n",
       "      <td>May 5, 2007</td>\n",
       "      <td>0</td>\n",
       "      <td>NaN</td>\n",
       "    </tr>\n",
       "    <tr>\n",
       "      <th>5626</th>\n",
       "      <td>Kim of Stuart, FL</td>\n",
       "      <td>April 26, 2007</td>\n",
       "      <td>0</td>\n",
       "      <td>NaN</td>\n",
       "    </tr>\n",
       "    <tr>\n",
       "      <th>5630</th>\n",
       "      <td>Christine of Sicklerville, NJ</td>\n",
       "      <td>March 10, 2007</td>\n",
       "      <td>0</td>\n",
       "      <td>NaN</td>\n",
       "    </tr>\n",
       "    <tr>\n",
       "      <th>5634</th>\n",
       "      <td>Dan of Chicago, IL</td>\n",
       "      <td>March 1, 2007</td>\n",
       "      <td>0</td>\n",
       "      <td>NaN</td>\n",
       "    </tr>\n",
       "    <tr>\n",
       "      <th>5636</th>\n",
       "      <td>Kelly of Natick, MA</td>\n",
       "      <td>Jan. 29, 2007</td>\n",
       "      <td>0</td>\n",
       "      <td>NaN</td>\n",
       "    </tr>\n",
       "    <tr>\n",
       "      <th>5637</th>\n",
       "      <td>Scott of New Hudson, MI</td>\n",
       "      <td>Jan. 29, 2007</td>\n",
       "      <td>0</td>\n",
       "      <td>NaN</td>\n",
       "    </tr>\n",
       "    <tr>\n",
       "      <th>5638</th>\n",
       "      <td>Michael of Colorado Springs, CO</td>\n",
       "      <td>Jan. 6, 2007</td>\n",
       "      <td>0</td>\n",
       "      <td>NaN</td>\n",
       "    </tr>\n",
       "    <tr>\n",
       "      <th>5639</th>\n",
       "      <td>Gwendolyn of Hatfield, PA</td>\n",
       "      <td>Jan. 3, 2007</td>\n",
       "      <td>0</td>\n",
       "      <td>NaN</td>\n",
       "    </tr>\n",
       "    <tr>\n",
       "      <th>5640</th>\n",
       "      <td>Ashley of Port St Lucie, FL</td>\n",
       "      <td>Dec. 30, 2006</td>\n",
       "      <td>0</td>\n",
       "      <td>NaN</td>\n",
       "    </tr>\n",
       "  </tbody>\n",
       "</table>\n",
       "</div>"
      ],
      "text/plain": [
       "                               author       posted_on  rating text\n",
       "1321          Emmy of Santa Clara, CA   Aug. 25, 2007       0  NaN\n",
       "1322         John of Jacksonville, FL   Aug. 24, 2007       0  NaN\n",
       "1323          Karyn of Kenilworth, NJ   Aug. 21, 2007       0  NaN\n",
       "1325            W of Morton Grove, IL   March 6, 2007       0  NaN\n",
       "1326             Dennis of Sewell, NJ   March 1, 2007       0  NaN\n",
       "1327         Wesley of Pittsburgh, PA   Feb. 28, 2007       0  NaN\n",
       "1328              Cynthia of Poca, WV   Feb. 18, 2007       0  NaN\n",
       "1329           Jeff of Huntington, WV   Feb. 15, 2007       0  NaN\n",
       "1330                  Tim of Kane, PA    Feb. 9, 2007       0  NaN\n",
       "1331             Anthony of Ogden, UT    Feb. 4, 2007       0  NaN\n",
       "1332    Penny of Colorado Springs, CO    Feb. 1, 2007       0  NaN\n",
       "5613            Dave of Shoreline, WA   Aug. 21, 2007       0  NaN\n",
       "5614              Huber of Reston, VA   Aug. 17, 2007       0  NaN\n",
       "5615    Patricia of Michigan City, IN   Aug. 17, 2007       0  NaN\n",
       "5617         Seraphina of Oakland, CA   July 16, 2007       0  NaN\n",
       "5618                 Kim of Salem, MA   July 16, 2007       0  NaN\n",
       "5619             Nicole of Hazlet, NJ   June 27, 2007       0  NaN\n",
       "5620             German of Monroe, GA   June 15, 2007       0  NaN\n",
       "5621         Deirdre of Baltimore, MD    June 3, 2007       0  NaN\n",
       "5623                Aj of Hayward, CA    May 26, 2007       0  NaN\n",
       "5624          Vincent of Broomall, PA     May 6, 2007       0  NaN\n",
       "5625              Matt of Chicago, IL     May 5, 2007       0  NaN\n",
       "5626                Kim of Stuart, FL  April 26, 2007       0  NaN\n",
       "5630    Christine of Sicklerville, NJ  March 10, 2007       0  NaN\n",
       "5634               Dan of Chicago, IL   March 1, 2007       0  NaN\n",
       "5636              Kelly of Natick, MA   Jan. 29, 2007       0  NaN\n",
       "5637          Scott of New Hudson, MI   Jan. 29, 2007       0  NaN\n",
       "5638  Michael of Colorado Springs, CO    Jan. 6, 2007       0  NaN\n",
       "5639        Gwendolyn of Hatfield, PA    Jan. 3, 2007       0  NaN\n",
       "5640      Ashley of Port St Lucie, FL   Dec. 30, 2006       0  NaN"
      ]
     },
     "execution_count": 75,
     "metadata": {},
     "output_type": "execute_result"
    }
   ],
   "source": [
    "data[data['text'].isnull()]"
   ]
  },
  {
   "cell_type": "code",
   "execution_count": 76,
   "id": "06202ad8",
   "metadata": {},
   "outputs": [],
   "source": [
    "data.dropna(inplace=True)"
   ]
  },
  {
   "cell_type": "markdown",
   "id": "758b4d25",
   "metadata": {},
   "source": [
    "The Missing Values of the State The Column To Drop The Values On The Datafame To Handle The NAN Values"
   ]
  },
  {
   "cell_type": "markdown",
   "id": "92da3f7f",
   "metadata": {},
   "source": [
    "### EDA"
   ]
  },
  {
   "cell_type": "code",
   "execution_count": 77,
   "id": "9690c13b",
   "metadata": {},
   "outputs": [
    {
     "data": {
      "text/html": [
       "<div>\n",
       "<style scoped>\n",
       "    .dataframe tbody tr th:only-of-type {\n",
       "        vertical-align: middle;\n",
       "    }\n",
       "\n",
       "    .dataframe tbody tr th {\n",
       "        vertical-align: top;\n",
       "    }\n",
       "\n",
       "    .dataframe thead th {\n",
       "        text-align: right;\n",
       "    }\n",
       "</style>\n",
       "<table border=\"1\" class=\"dataframe\">\n",
       "  <thead>\n",
       "    <tr style=\"text-align: right;\">\n",
       "      <th></th>\n",
       "      <th>count</th>\n",
       "      <th>mean</th>\n",
       "      <th>std</th>\n",
       "      <th>min</th>\n",
       "      <th>25%</th>\n",
       "      <th>50%</th>\n",
       "      <th>75%</th>\n",
       "      <th>max</th>\n",
       "    </tr>\n",
       "  </thead>\n",
       "  <tbody>\n",
       "    <tr>\n",
       "      <th>rating</th>\n",
       "      <td>5629.0</td>\n",
       "      <td>0.826435</td>\n",
       "      <td>0.669073</td>\n",
       "      <td>0.0</td>\n",
       "      <td>0.0</td>\n",
       "      <td>1.0</td>\n",
       "      <td>1.0</td>\n",
       "      <td>5.0</td>\n",
       "    </tr>\n",
       "  </tbody>\n",
       "</table>\n",
       "</div>"
      ],
      "text/plain": [
       "         count      mean       std  min  25%  50%  75%  max\n",
       "rating  5629.0  0.826435  0.669073  0.0  0.0  1.0  1.0  5.0"
      ]
     },
     "execution_count": 77,
     "metadata": {},
     "output_type": "execute_result"
    }
   ],
   "source": [
    "data.describe().T"
   ]
  },
  {
   "cell_type": "markdown",
   "id": "afe3d204",
   "metadata": {},
   "source": [
    "### Year"
   ]
  },
  {
   "cell_type": "code",
   "execution_count": 78,
   "id": "74975783",
   "metadata": {},
   "outputs": [],
   "source": [
    "data['posted_on'] = pd.to_datetime(data['posted_on'])"
   ]
  },
  {
   "cell_type": "code",
   "execution_count": 79,
   "id": "49497feb",
   "metadata": {},
   "outputs": [
    {
     "data": {
      "text/plain": [
       "'l'"
      ]
     },
     "execution_count": 79,
     "metadata": {},
     "output_type": "execute_result"
    }
   ],
   "source": [
    "data['author'][0][1]"
   ]
  },
  {
   "cell_type": "code",
   "execution_count": 80,
   "id": "aceed69a",
   "metadata": {
    "scrolled": true
   },
   "outputs": [],
   "source": [
    "data['author']=data['author'].str.split(',')"
   ]
  },
  {
   "cell_type": "code",
   "execution_count": 81,
   "id": "c2a168a7",
   "metadata": {},
   "outputs": [],
   "source": [
    "try:\n",
    "    for i in range(len(data['author'])):\n",
    "        data.loc[i,'State'] = data['author'][i][1]\n",
    "except IndexError:\n",
    "    data.loc[i,'State'] = 'Na'"
   ]
  },
  {
   "cell_type": "code",
   "execution_count": 82,
   "id": "fff39bfd",
   "metadata": {
    "scrolled": true
   },
   "outputs": [
    {
     "data": {
      "text/plain": [
       "5629"
      ]
     },
     "execution_count": 82,
     "metadata": {},
     "output_type": "execute_result"
    }
   ],
   "source": [
    "len(data['author'])"
   ]
  },
  {
   "cell_type": "code",
   "execution_count": 83,
   "id": "5229217a",
   "metadata": {
    "scrolled": false
   },
   "outputs": [
    {
     "data": {
      "text/plain": [
       "1    3734\n",
       "0    1530\n",
       "2     260\n",
       "3      54\n",
       "5      32\n",
       "4      19\n",
       "Name: rating, dtype: int64"
      ]
     },
     "execution_count": 83,
     "metadata": {},
     "output_type": "execute_result"
    }
   ],
   "source": [
    "data['rating'].value_counts()"
   ]
  },
  {
   "cell_type": "code",
   "execution_count": 84,
   "id": "b41cef60",
   "metadata": {},
   "outputs": [],
   "source": [
    "data['Month'] = data['posted_on'].dt.month"
   ]
  },
  {
   "cell_type": "code",
   "execution_count": 85,
   "id": "ad673f76",
   "metadata": {
    "scrolled": true
   },
   "outputs": [],
   "source": [
    "data['year'] = data['posted_on'].dt.year"
   ]
  },
  {
   "cell_type": "code",
   "execution_count": 86,
   "id": "14055434",
   "metadata": {},
   "outputs": [],
   "source": [
    "i=data['year'].value_counts().index"
   ]
  },
  {
   "cell_type": "code",
   "execution_count": 87,
   "id": "19273c64",
   "metadata": {},
   "outputs": [
    {
     "data": {
      "text/plain": [
       "(array([ 0,  1,  2,  3,  4,  5,  6,  7,  8,  9, 10, 11, 12, 13, 14, 15]),\n",
       " [Text(0, 0, '2015'),\n",
       "  Text(1, 0, '2016'),\n",
       "  Text(2, 0, '2014'),\n",
       "  Text(3, 0, '2009'),\n",
       "  Text(4, 0, '2008'),\n",
       "  Text(5, 0, '2012'),\n",
       "  Text(6, 0, '2010'),\n",
       "  Text(7, 0, '2011'),\n",
       "  Text(8, 0, '2013'),\n",
       "  Text(9, 0, '2007'),\n",
       "  Text(10, 0, '2006'),\n",
       "  Text(11, 0, '2004'),\n",
       "  Text(12, 0, '2003'),\n",
       "  Text(13, 0, '2001'),\n",
       "  Text(14, 0, '2002'),\n",
       "  Text(15, 0, '2000')])"
      ]
     },
     "execution_count": 87,
     "metadata": {},
     "output_type": "execute_result"
    },
    {
     "data": {
      "image/png": "[encoded data removed]",
      "text/plain": [
       "<Figure size 640x480 with 1 Axes>"
      ]
     },
     "metadata": {},
     "output_type": "display_data"
    }
   ],
   "source": [
    "sns.countplot(data=data,x='year',order=i)\n",
    "plt.xticks(rotation=45)"
   ]
  },
  {
   "cell_type": "markdown",
   "id": "6b577f79",
   "metadata": {},
   "source": [
    "The Year that was Complaints is depicted in this graph. A majority of text are quite small and just a handful of them come near to the Highest Complaints on the 2015."
   ]
  },
  {
   "cell_type": "code",
   "execution_count": 88,
   "id": "cc2cab50",
   "metadata": {},
   "outputs": [
    {
     "data": {
      "text/plain": [
       "(array([ 0,  1,  2,  3,  4,  5,  6,  7,  8,  9, 10, 11]),\n",
       " [Text(0, 0, '1'),\n",
       "  Text(1, 0, '2'),\n",
       "  Text(2, 0, '3'),\n",
       "  Text(3, 0, '4'),\n",
       "  Text(4, 0, '5'),\n",
       "  Text(5, 0, '6'),\n",
       "  Text(6, 0, '7'),\n",
       "  Text(7, 0, '8'),\n",
       "  Text(8, 0, '9'),\n",
       "  Text(9, 0, '10'),\n",
       "  Text(10, 0, '11'),\n",
       "  Text(11, 0, '12')])"
      ]
     },
     "execution_count": 88,
     "metadata": {},
     "output_type": "execute_result"
    },
    {
     "data": {
      "image/png": "[encoded data removed]",
      "text/plain": [
       "<Figure size 640x480 with 1 Axes>"
      ]
     },
     "metadata": {},
     "output_type": "display_data"
    }
   ],
   "source": [
    "sns.countplot(data=data,x='Month')\n",
    "plt.xticks(rotation=45)"
   ]
  },
  {
   "cell_type": "code",
   "execution_count": 89,
   "id": "6a074269",
   "metadata": {},
   "outputs": [],
   "source": [
    "year2015 = data.loc[data['year']==2015]"
   ]
  },
  {
   "cell_type": "code",
   "execution_count": 90,
   "id": "6ffe7300",
   "metadata": {},
   "outputs": [],
   "source": [
    "year2015=year2015.reset_index()"
   ]
  },
  {
   "cell_type": "code",
   "execution_count": 91,
   "id": "351c0a1c",
   "metadata": {},
   "outputs": [],
   "source": [
    "mo = year2015['Month'].value_counts()"
   ]
  },
  {
   "cell_type": "code",
   "execution_count": 92,
   "id": "f13f7a6d",
   "metadata": {},
   "outputs": [],
   "source": [
    "month = mo.index"
   ]
  },
  {
   "cell_type": "code",
   "execution_count": 93,
   "id": "647c0a84",
   "metadata": {},
   "outputs": [],
   "source": [
    "cnt = mo.values"
   ]
  },
  {
   "cell_type": "code",
   "execution_count": 94,
   "id": "fef554bf",
   "metadata": {
    "scrolled": false
   },
   "outputs": [
    {
     "data": {
      "text/plain": [
       "Text(0, 0.5, 'Count')"
      ]
     },
     "execution_count": 94,
     "metadata": {},
     "output_type": "execute_result"
    },
    {
     "data": {
      "image/png": "[encoded data removed]",
      "text/plain": [
       "<Figure size 640x480 with 1 Axes>"
      ]
     },
     "metadata": {},
     "output_type": "display_data"
    }
   ],
   "source": [
    "sns.barplot(data=year2015,x=month,y=cnt,palette='rainbow_r')\n",
    "plt.title('Year 2015 Complaints count month wise')\n",
    "plt.xlabel(\"Month\")\n",
    "plt.ylabel('Count')"
   ]
  },
  {
   "cell_type": "markdown",
   "id": "a3a7672b",
   "metadata": {},
   "source": [
    "The Year that was Complaints is portrayed in this graph. A majority of text are quite small and just a handful of them come near to the Highest Complaints on the Equal monthe on the modelling on the based on the lowest on the year 4 and highest year 6 to the raise on the complaints"
   ]
  },
  {
   "cell_type": "code",
   "execution_count": 95,
   "id": "d4a65728",
   "metadata": {},
   "outputs": [],
   "source": [
    "try:\n",
    "    for i in range(len(year2015['author'])):\n",
    "        year2015.loc[i,'Sta'] = year2015['author'][i][1] \n",
    "except IndexError:\n",
    "    year2015.loc[i,'Sta'] = 'Na'"
   ]
  },
  {
   "cell_type": "code",
   "execution_count": 96,
   "id": "52f3fecd",
   "metadata": {
    "scrolled": true
   },
   "outputs": [
    {
     "data": {
      "text/plain": [
       "index           0\n",
       "author          0\n",
       "posted_on       0\n",
       "rating          0\n",
       "text            0\n",
       "State        1087\n",
       "Month           0\n",
       "year            0\n",
       "Sta           959\n",
       "dtype: int64"
      ]
     },
     "execution_count": 96,
     "metadata": {},
     "output_type": "execute_result"
    }
   ],
   "source": [
    "year2015.isna().sum()"
   ]
  },
  {
   "cell_type": "code",
   "execution_count": 97,
   "id": "57843a1e",
   "metadata": {},
   "outputs": [
    {
     "name": "stdout",
     "output_type": "stream",
     "text": [
      "Null values present in the \"year2015\":\n",
      "index        0\n",
      "author       0\n",
      "posted_on    0\n",
      "rating       0\n",
      "text         0\n",
      "State        0\n",
      "Month        0\n",
      "year         0\n",
      "Sta          0\n",
      "dtype: int64\n"
     ]
    }
   ],
   "source": [
    "year2015.dropna(inplace=True)\n",
    "print(f'Null values present in the \"year2015\":\\n{year2015.isna().sum()}')"
   ]
  },
  {
   "cell_type": "markdown",
   "id": "463164a4",
   "metadata": {},
   "source": [
    "#### Rating"
   ]
  },
  {
   "cell_type": "code",
   "execution_count": 98,
   "id": "fb68073a",
   "metadata": {},
   "outputs": [
    {
     "data": {
      "text/plain": [
       "Text(0, 0.5, 'author')"
      ]
     },
     "execution_count": 98,
     "metadata": {},
     "output_type": "execute_result"
    },
    {
     "data": {
      "image/png": "[encoded data removed]",
      "text/plain": [
       "<Figure size 1500x700 with 1 Axes>"
      ]
     },
     "metadata": {},
     "output_type": "display_data"
    }
   ],
   "source": [
    "plt.figure(figsize = (15,7))\n",
    "data['rating'].value_counts().plot(kind = 'bar', color = ['green','red'])\n",
    "plt.title(\"Postive vs Negative Reviews\")\n",
    "plt.xlabel('text')\n",
    "plt.ylabel('author')"
   ]
  },
  {
   "cell_type": "markdown",
   "id": "d7730476",
   "metadata": {},
   "source": [
    "The Complainents on the rating from on the highest based on the rating"
   ]
  },
  {
   "cell_type": "markdown",
   "id": "724819d1",
   "metadata": {},
   "source": [
    "###  Text Preprocessing"
   ]
  },
  {
   "cell_type": "code",
   "execution_count": 99,
   "id": "c499a1f9",
   "metadata": {},
   "outputs": [],
   "source": [
    "import nltk\n",
    "stopwords = nltk.corpus.stopwords.words('english')"
   ]
  },
  {
   "cell_type": "code",
   "execution_count": 100,
   "id": "9c736cbb",
   "metadata": {},
   "outputs": [],
   "source": [
    "#Creating a User Defined Function for Text Preprocessing.\n",
    "def nlp_process(text, stemm =False, lemm = True, Stop_words = False):\n",
    "    \n",
    "    #remove numbers and punctuations and lower case\n",
    "    text = re.sub(r'[^\\w\\s]','',str(text).lower().strip())\n",
    "    word_tokens = text.split()\n",
    "    \n",
    "    #stopwords\n",
    "    if Stop_words == True:\n",
    "        lst_text = [word for word in word_tokens if word not in stopwords]\n",
    "        \n",
    "        #stemming\n",
    "        if stemm == True:\n",
    "            stemmer = nltk.stem.porter.PorterStemmer()\n",
    "            lst_text = [stemmer.stem(word) for word in lst_text]\n",
    "            \n",
    "            #lemmatization\n",
    "            if lemm == True:\n",
    "                lemmer = nltk.stem.wordnet.WordNetLemmatizer()\n",
    "    "
   ]
  },
  {
   "cell_type": "code",
   "execution_count": 101,
   "id": "0729c4af",
   "metadata": {},
   "outputs": [],
   "source": [
    "def lemma_stem(text):\n",
    "    return stemmer.stem(WordNetLemmatizer().lemmatize(text, pos='v'))\n",
    "\n",
    "\n",
    "def preprocess(text):\n",
    "    result=[]\n",
    "    for token in gensim.utils.simple_preprocess(text) :\n",
    "        if token not in gensim.parsing.preprocessing.STOPWORDS and len(token) > 3:\n",
    "            result.append(lemma_stem(token))\n",
    "\n",
    "    return result"
   ]
  },
  {
   "cell_type": "code",
   "execution_count": 102,
   "id": "de3fba69",
   "metadata": {},
   "outputs": [],
   "source": [
    "data['text'] = data['text'].apply(lambda x: x.replace('\\n', ' ').strip())"
   ]
  },
  {
   "cell_type": "markdown",
   "id": "3f406eae",
   "metadata": {},
   "source": [
    "Removing new lines to reduce the total space"
   ]
  },
  {
   "cell_type": "markdown",
   "id": "aef6a32e",
   "metadata": {},
   "source": [
    "### Punctuation Removal"
   ]
  },
  {
   "cell_type": "code",
   "execution_count": 103,
   "id": "f23f1af2",
   "metadata": {},
   "outputs": [],
   "source": [
    "data['text'] = data['text'].apply(lambda x :re.sub(r'[^\\w\\s]','',x))"
   ]
  },
  {
   "cell_type": "markdown",
   "id": "8fe42f34",
   "metadata": {},
   "source": [
    "### LowerCase"
   ]
  },
  {
   "cell_type": "code",
   "execution_count": 104,
   "id": "4ae5c032",
   "metadata": {},
   "outputs": [],
   "source": [
    "data['text'] = data['text'].str.lower()"
   ]
  },
  {
   "cell_type": "markdown",
   "id": "30b952cb",
   "metadata": {},
   "source": [
    "### Tokenization"
   ]
  },
  {
   "cell_type": "code",
   "execution_count": 105,
   "id": "82d5904f",
   "metadata": {},
   "outputs": [
    {
     "name": "stderr",
     "output_type": "stream",
     "text": [
      "[nltk_data] Downloading package punkt to\n",
      "[nltk_data]     C:\\Users\\Manic\\AppData\\Roaming\\nltk_data...\n",
      "[nltk_data]   Package punkt is already up-to-date!\n",
      "[nltk_data] Downloading package stopwords to\n",
      "[nltk_data]     C:\\Users\\Manic\\AppData\\Roaming\\nltk_data...\n",
      "[nltk_data]   Package stopwords is already up-to-date!\n",
      "[nltk_data] Downloading package wordnet to\n",
      "[nltk_data]     C:\\Users\\Manic\\AppData\\Roaming\\nltk_data...\n",
      "[nltk_data]   Package wordnet is already up-to-date!\n",
      "[nltk_data] Downloading package omw-1.4 to\n",
      "[nltk_data]     C:\\Users\\Manic\\AppData\\Roaming\\nltk_data...\n",
      "[nltk_data]   Package omw-1.4 is already up-to-date!\n",
      "[nltk_data] Downloading package brown to\n",
      "[nltk_data]     C:\\Users\\Manic\\AppData\\Roaming\\nltk_data...\n",
      "[nltk_data]   Package brown is already up-to-date!\n"
     ]
    },
    {
     "data": {
      "text/plain": [
       "True"
      ]
     },
     "execution_count": 105,
     "metadata": {},
     "output_type": "execute_result"
    }
   ],
   "source": [
    "nltk.download('punkt')\n",
    "nltk.download('stopwords')\n",
    "nltk.download('wordnet')\n",
    "nltk.download('omw-1.4')\n",
    "nltk.download('brown')"
   ]
  },
  {
   "cell_type": "markdown",
   "id": "9cc9cc23",
   "metadata": {},
   "source": [
    "### Stop word Removel"
   ]
  },
  {
   "cell_type": "code",
   "execution_count": 106,
   "id": "7d6cf305",
   "metadata": {},
   "outputs": [],
   "source": [
    "stopwords = nltk.corpus.stopwords.words('english')\n",
    "stemmer = nltk.stem.PorterStemmer()"
   ]
  },
  {
   "cell_type": "code",
   "execution_count": 107,
   "id": "a3d33ddf",
   "metadata": {
    "scrolled": true
   },
   "outputs": [
    {
     "data": {
      "text/html": [
       "<div>\n",
       "<style scoped>\n",
       "    .dataframe tbody tr th:only-of-type {\n",
       "        vertical-align: middle;\n",
       "    }\n",
       "\n",
       "    .dataframe tbody tr th {\n",
       "        vertical-align: top;\n",
       "    }\n",
       "\n",
       "    .dataframe thead th {\n",
       "        text-align: right;\n",
       "    }\n",
       "</style>\n",
       "<table border=\"1\" class=\"dataframe\">\n",
       "  <thead>\n",
       "    <tr style=\"text-align: right;\">\n",
       "      <th></th>\n",
       "      <th>author</th>\n",
       "      <th>posted_on</th>\n",
       "      <th>rating</th>\n",
       "      <th>text</th>\n",
       "      <th>State</th>\n",
       "      <th>Month</th>\n",
       "      <th>year</th>\n",
       "    </tr>\n",
       "  </thead>\n",
       "  <tbody>\n",
       "    <tr>\n",
       "      <th>0</th>\n",
       "      <td>[Alantae of Chesterfeild,  MI]</td>\n",
       "      <td>2016-11-22</td>\n",
       "      <td>1</td>\n",
       "      <td>i used to love comcast until all these constan...</td>\n",
       "      <td>MI</td>\n",
       "      <td>11</td>\n",
       "      <td>2016</td>\n",
       "    </tr>\n",
       "    <tr>\n",
       "      <th>1</th>\n",
       "      <td>[Vera of Philadelphia,  PA]</td>\n",
       "      <td>2016-11-19</td>\n",
       "      <td>1</td>\n",
       "      <td>im so over comcast the worst internet provider...</td>\n",
       "      <td>PA</td>\n",
       "      <td>11</td>\n",
       "      <td>2016</td>\n",
       "    </tr>\n",
       "    <tr>\n",
       "      <th>2</th>\n",
       "      <td>[Sarah of Rancho Cordova,  CA]</td>\n",
       "      <td>2016-11-17</td>\n",
       "      <td>1</td>\n",
       "      <td>if i could give them a negative star or no sta...</td>\n",
       "      <td>CA</td>\n",
       "      <td>11</td>\n",
       "      <td>2016</td>\n",
       "    </tr>\n",
       "    <tr>\n",
       "      <th>3</th>\n",
       "      <td>[Dennis of Manchester,  NH]</td>\n",
       "      <td>2016-11-16</td>\n",
       "      <td>1</td>\n",
       "      <td>ive had the worst experiences so far since ins...</td>\n",
       "      <td>NH</td>\n",
       "      <td>11</td>\n",
       "      <td>2016</td>\n",
       "    </tr>\n",
       "    <tr>\n",
       "      <th>4</th>\n",
       "      <td>[Ryan of Bellevue,  WA]</td>\n",
       "      <td>2016-11-14</td>\n",
       "      <td>1</td>\n",
       "      <td>check your contract when you sign up for comca...</td>\n",
       "      <td>WA</td>\n",
       "      <td>11</td>\n",
       "      <td>2016</td>\n",
       "    </tr>\n",
       "  </tbody>\n",
       "</table>\n",
       "</div>"
      ],
      "text/plain": [
       "                           author  posted_on  rating  \\\n",
       "0  [Alantae of Chesterfeild,  MI] 2016-11-22       1   \n",
       "1     [Vera of Philadelphia,  PA] 2016-11-19       1   \n",
       "2  [Sarah of Rancho Cordova,  CA] 2016-11-17       1   \n",
       "3     [Dennis of Manchester,  NH] 2016-11-16       1   \n",
       "4         [Ryan of Bellevue,  WA] 2016-11-14       1   \n",
       "\n",
       "                                                text State  Month  year  \n",
       "0  i used to love comcast until all these constan...    MI     11  2016  \n",
       "1  im so over comcast the worst internet provider...    PA     11  2016  \n",
       "2  if i could give them a negative star or no sta...    CA     11  2016  \n",
       "3  ive had the worst experiences so far since ins...    NH     11  2016  \n",
       "4  check your contract when you sign up for comca...    WA     11  2016  "
      ]
     },
     "execution_count": 107,
     "metadata": {},
     "output_type": "execute_result"
    }
   ],
   "source": [
    "data.head(5)"
   ]
  },
  {
   "cell_type": "code",
   "execution_count": 108,
   "id": "b1c183bc",
   "metadata": {},
   "outputs": [],
   "source": [
    "wordnet_lemmatizer = WordNetLemmatizer()\n",
    "def lemmatizer(text):\n",
    "    lemm_text = [wordnet_lemmatizer.lemmatize(word) for word in text.split()]\n",
    "    return lemm_text"
   ]
  },
  {
   "cell_type": "markdown",
   "id": "a4c627af",
   "metadata": {},
   "source": [
    "### K - Means  Algorithem"
   ]
  },
  {
   "cell_type": "code",
   "execution_count": 109,
   "id": "61cbe9e7",
   "metadata": {},
   "outputs": [],
   "source": [
    "from sklearn.feature_extraction.text import TfidfVectorizer\n",
    "def tokenize(text):\n",
    "    tokens = nltk.word_tokenize(text.lower())\n",
    "    tokens = [stemmer.stem(token) for token in tokens if token not in stopwords]\n",
    "    return tokens"
   ]
  },
  {
   "cell_type": "markdown",
   "id": "2684ed84",
   "metadata": {},
   "source": [
    "#### Vectorize the Data\n",
    "\n",
    "* Now that the training data has been loaded, we'll train the vectorizers to turn our features into numbers.\n",
    "\n",
    "* Train the vectorizers\n",
    " Create the count vectorizer cVec using the CountVectorizer function\n",
    "\n",
    "* Configure cVec to use the tokenizer function from earlier\n",
    "\n",
    "* Perform fit_transform on cVec to train the vectorizer with the training Text\n",
    "a. Save the result as count_X\n",
    "\n",
    "* Create the TF-IDF vectorizer tVec using the TfidfVectorizer function\n",
    "\n",
    "* Configure tVec to use the tokenizer function from earlier\n",
    "\n",
    "* Perform fit_transform on tVec to train the vectorizer with the training Compliants\n",
    "a. Save the result as tfidf_X"
   ]
  },
  {
   "cell_type": "code",
   "execution_count": 110,
   "id": "91497766",
   "metadata": {},
   "outputs": [],
   "source": [
    "tfidf_vectorizer = TfidfVectorizer(tokenizer=tokenize, max_df=0.8, max_features=2000, use_idf=True)\n",
    "tfidf_matrix = tfidf_vectorizer.fit_transform(data['text'])"
   ]
  },
  {
   "cell_type": "code",
   "execution_count": 111,
   "id": "b7c79497",
   "metadata": {},
   "outputs": [
    {
     "name": "stdout",
     "output_type": "stream",
     "text": [
      "  (0, 1984)\t0.14585296975079648\n",
      "  (0, 840)\t0.06617390444482\n",
      "  (0, 1342)\t0.15152922855643103\n",
      "  (0, 1977)\t0.21910816204172776\n",
      "  (0, 1742)\t0.1314126996575067\n",
      "  (0, 1783)\t0.1323541606938276\n",
      "  (0, 1801)\t0.1989104618294436\n",
      "  (0, 946)\t0.11337708881029826\n",
      "  (0, 1439)\t0.14594771950645383\n",
      "  (0, 47)\t0.14240611574986317\n",
      "  (0, 209)\t0.12827849862819715\n",
      "  (0, 1151)\t0.3724136804086541\n",
      "  (0, 1653)\t0.2658040698119933\n",
      "  (0, 1959)\t0.18119430541132947\n",
      "  (0, 655)\t0.15098913482024195\n",
      "  (0, 1341)\t0.15588519611053644\n",
      "  (0, 574)\t0.16837921346627752\n",
      "  (0, 1968)\t0.08658521885814273\n",
      "  (0, 692)\t0.09468849640423375\n",
      "  (0, 626)\t0.1956202160221665\n",
      "  (0, 425)\t0.13010428395784662\n",
      "  (0, 549)\t0.0816932962328085\n",
      "  (0, 1654)\t0.3704069784114744\n",
      "  (0, 1211)\t0.16937644586245143\n",
      "  (0, 1090)\t0.16446758022488567\n",
      "  :\t:\n",
      "  (5628, 1313)\t0.04995629943164098\n",
      "  (5628, 1298)\t0.07172318785092609\n",
      "  (5628, 1989)\t0.04179172463320564\n",
      "  (5628, 926)\t0.10685560906387342\n",
      "  (5628, 593)\t0.09741936954732557\n",
      "  (5628, 1684)\t0.1084921260519178\n",
      "  (5628, 117)\t0.058086473354267115\n",
      "  (5628, 424)\t0.0518936406537625\n",
      "  (5628, 1506)\t0.058610211360988554\n",
      "  (5628, 1324)\t0.05253845767664693\n",
      "  (5628, 107)\t0.11663478883918045\n",
      "  (5628, 1003)\t0.19110267497820105\n",
      "  (5628, 396)\t0.07600262457902221\n",
      "  (5628, 675)\t0.07284601530613766\n",
      "  (5628, 538)\t0.062487570515369364\n",
      "  (5628, 1206)\t0.03869515132252327\n",
      "  (5628, 1975)\t0.03190925046781296\n",
      "  (5628, 514)\t0.04151169790942016\n",
      "  (5628, 1385)\t0.3194985952475416\n",
      "  (5628, 1597)\t0.11315303375958774\n",
      "  (5628, 1800)\t0.06072224939396498\n",
      "  (5628, 1182)\t0.07776242295247876\n",
      "  (5628, 840)\t0.05914656750570073\n",
      "  (5628, 1968)\t0.07739030264504654\n",
      "  (5628, 993)\t0.06670927048867388\n"
     ]
    }
   ],
   "source": [
    "print (tfidf_matrix)"
   ]
  },
  {
   "cell_type": "code",
   "execution_count": 112,
   "id": "52b4d0ae",
   "metadata": {},
   "outputs": [
    {
     "data": {
      "text/plain": [
       "KMeans(n_clusters=5)"
      ]
     },
     "execution_count": 112,
     "metadata": {},
     "output_type": "execute_result"
    }
   ],
   "source": [
    "num_clusters = 5\n",
    "km = KMeans(n_clusters=num_clusters)\n",
    "km.fit(tfidf_matrix)"
   ]
  },
  {
   "cell_type": "code",
   "execution_count": 113,
   "id": "8444fd94",
   "metadata": {},
   "outputs": [],
   "source": [
    "data['text'] = km.labels_"
   ]
  },
  {
   "cell_type": "code",
   "execution_count": 114,
   "id": "16a85235",
   "metadata": {},
   "outputs": [
    {
     "name": "stdout",
     "output_type": "stream",
     "text": [
      "Top words per cluster:\n"
     ]
    },
    {
     "name": "stderr",
     "output_type": "stream",
     "text": [
      "C:\\ProgramData\\Anaconda3\\lib\\site-packages\\sklearn\\utils\\deprecation.py:87: FutureWarning: Function get_feature_names is deprecated; get_feature_names is deprecated in 1.0 and will be removed in 1.2. Please use get_feature_names_out instead.\n",
      "  warnings.warn(msg, category=FutureWarning)\n"
     ]
    },
    {
     "name": "stdout",
     "output_type": "stream",
     "text": [
      "Cluster 0:\n",
      " servic\n",
      " internet\n",
      " get\n",
      " custom\n",
      " time\n",
      " call\n",
      " problem\n",
      " cabl\n",
      " speed\n",
      " compani\n",
      "\n",
      "Cluster 1:\n",
      " box\n",
      " channel\n",
      " cabl\n",
      " tv\n",
      " servic\n",
      " get\n",
      " call\n",
      " hd\n",
      " pay\n",
      " would\n",
      "\n",
      "Cluster 2:\n",
      " account\n",
      " servic\n",
      " call\n",
      " bill\n",
      " payment\n",
      " credit\n",
      " told\n",
      " would\n",
      " collect\n",
      " equip\n",
      "\n",
      "Cluster 3:\n",
      " bill\n",
      " month\n",
      " servic\n",
      " charg\n",
      " call\n",
      " told\n",
      " pay\n",
      " fee\n",
      " would\n",
      " custom\n",
      "\n",
      "Cluster 4:\n",
      " call\n",
      " servic\n",
      " day\n",
      " tech\n",
      " would\n",
      " told\n",
      " appoint\n",
      " phone\n",
      " time\n",
      " said\n",
      "\n"
     ]
    }
   ],
   "source": [
    "print(\"Top words per cluster:\")\n",
    "order_centroids = km.cluster_centers_.argsort()[:, ::-1]\n",
    "terms = tfidf_vectorizer.get_feature_names()\n",
    "for i in range(num_clusters):\n",
    "    print(\"Cluster %d:\" % i),\n",
    "    for ind in order_centroids[i, :10]:\n",
    "        print(' %s' % terms[ind]),\n",
    "    print()"
   ]
  },
  {
   "cell_type": "markdown",
   "id": "04eaa166",
   "metadata": {},
   "source": [
    "### Infernce"
   ]
  },
  {
   "cell_type": "markdown",
   "id": "9f4cbf2f",
   "metadata": {},
   "source": [
    "* Utilizing the methodologies for the five types of clustering and giving these clusters names with meaning\n",
    "*  The various types of clusters that can be divided into word groups, preprocessing methods, and text summaries created from meaningful keywords for word similarity cosine similarity\n",
    "* The word to vectorize the characters on the features to summarise, and the vectorizers' training Use the CountVectorizer function to create the count vectorizer cVec.\n",
    "* Using the model to train on the grouping cluster finelay the cluster to the nearest one.\n"
   ]
  },
  {
   "cell_type": "markdown",
   "id": "eb4a9b47",
   "metadata": {},
   "source": [
    "### Development for Next level"
   ]
  },
  {
   "cell_type": "markdown",
   "id": "b4338adf",
   "metadata": {},
   "source": [
    "The customer complains based on the reviews and to different parts of the collection based on building artificial text summarization on the subsequent level."
   ]
  },
  {
   "cell_type": "markdown",
   "id": "bfa8b7d0",
   "metadata": {},
   "source": [
    "### Level - C"
   ]
  },
  {
   "cell_type": "markdown",
   "id": "60f1f2a8",
   "metadata": {},
   "source": [
    "* Create an algorithm to read this data from a file and create a title (two to four words) for the complaint. \n",
    "\n",
    "* Function should take text file data as input\n",
    "* Function should generate titles for each line in \"text\" column. \n",
    "* Function should attach this title to the line, separated by a comma\n",
    "* Function should create a csv file containing text and titles separated by a comma\n",
    "* Title should be meaningful and effectively summarize the complaint\n"
   ]
  },
  {
   "cell_type": "code",
   "execution_count": 115,
   "id": "fc37541c",
   "metadata": {},
   "outputs": [],
   "source": [
    "import pandas as pd\n",
    "import csv\n",
    "df = pd.read_csv('D:\\Assignment\\Dataset\\comcast_consumeraffairs_complaints.csv')"
   ]
  },
  {
   "cell_type": "code",
   "execution_count": 116,
   "id": "191e3765",
   "metadata": {},
   "outputs": [],
   "source": [
    "def generate_titles(df, text):\n",
    "    lines_with_titles = []\n",
    "    for text in df[text]:\n",
    "        title = text.upper() \n",
    "        line_with_title = text + \", \" + title \n",
    "        lines_with_titles.append(line_with_title)\n",
    "    df['line_with_title'] = lines_with_titles\n",
    "    return df"
   ]
  },
  {
   "cell_type": "code",
   "execution_count": 117,
   "id": "25c2017a",
   "metadata": {},
   "outputs": [],
   "source": [
    "keyword_titles = {\n",
    "    \"I used to love Comcast. Until all these constant updates. My internet and cable crash a lot at night, and sometimes during the day, some channels don't even work and on demand sometimes don't play either. I wish they will do something about it. Because just a few mins ago, the internet have crashed for about 20 mins for no reason. I'm tired of it and thinking about switching to Wow or something. Please do not get Xfinity.\"\n",
    "    \"Thank God. I am changing to Dish. They gave me awesome pricing and super people to deal with. You can actually understand what they are saying. I'm so excited to finally be able to return this equipment although still haven't received the home security yet as promised 4 times. Go to h*ll Comcast. You have made me miserable and cause me to miss many hours of work with your promises.\"\n",
    "    \"I Have been a long time customer and only have Xfinity as my ISP for a while now. While I was in the local Walmart on November 4, 2016, there were customer representatives from Xfinity running promotions for and in the Salt Lake City area. Spoke with a representative and was able to get and signed a contract for Pro Blast at $50.00 a month with no contract or early termination fees. I received an email from Xfinity stating the changes that would be made to my account. It stated that not only would it be under contract for 24 months but there would be early termination fees. This is not what I had originally signed up for and it specifically states this on the contract that I signed. Contacted Xfinity customer service and was told since they cannot see the contract over the phone that I would need to go to Xfinity store in person. Went to Xfinity store on November 8, 2016 and was told that it would be under contract and there was no way around it. Because of this I have cancelled the upgrade and went back to my original plan. It's plain and simple. When a contract is signed it should be honored for what is stated on it. Xfinity is dishonest and not trustworthy. Therefore I will be looking and changing my ISP as soon as possible to another company. Xfinity does not deserve a paycheck from me or anyone else that I know.\"\n",
    "}"
   ]
  },
  {
   "cell_type": "markdown",
   "id": "2f9e4838",
   "metadata": {},
   "source": [
    "* There are algorithms that are automatically generated based on user compliance with the text summarised by the algorithm.\n",
    "* take text file data as input after reading the dataset.\n",
    "* the next step text column have been input into the file and generated on the titles.\n",
    "* The next stage is to automaically summarise the text column after the dataset \n",
    "* finely summarising the text and converting it to a csv file with the output as the frameworks"
   ]
  },
  {
   "cell_type": "markdown",
   "id": "0267721d",
   "metadata": {},
   "source": [
    "##### Future work \n",
    "* I'll give it a go once the model has been deployed in the user interface based on the model's auto generalisation of the commands for text conversion."
   ]
  },
  {
   "cell_type": "markdown",
   "id": "3e0769ca",
   "metadata": {},
   "source": [
    "#### Thankyou"
   ]
  }
 ],
 "metadata": {
  "kernelspec": {
   "display_name": "Python 3 (ipykernel)",
   "language": "python",
   "name": "python3"
  },
  "language_info": {
   "codemirror_mode": {
    "name": "ipython",
    "version": 3
   },
   "file_extension": ".py",
   "mimetype": "text/x-python",
   "name": "python",
   "nbconvert_exporter": "python",
   "pygments_lexer": "ipython3",
   "version": "3.9.13"
  }
 },
 "nbformat": 4,
 "nbformat_minor": 5
}
